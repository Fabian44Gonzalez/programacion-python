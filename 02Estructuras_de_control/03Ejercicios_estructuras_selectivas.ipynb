{
 "cells": [
  {
   "cell_type": "markdown",
   "metadata": {},
   "source": [
    "# Ejercicios estructuras selectivas\n",
    "\n",
    "## Ruta\n",
    "Si acabas de empezar a programar, intenta hacer, como mínimo, los ejercicios del 1 al 8. Después intenta el 9 y el 11.\n",
    "\n",
    "Si ya tienes algo de experiencia programando, puedes empezar en el ejercicio 10.\n",
    "\n",
    "## Ejercicio 1\n",
    "\n",
    "Implementa un programa en Python que pida por teclado un número entero y que indique si es par (si es impar, no muestra nada).\n"
   ]
  },
  {
   "cell_type": "code",
   "execution_count": null,
   "metadata": {},
   "outputs": [],
   "source": [
    "numero = int(input(\"Escribe un número entero\"))\n",
    "if (numero % 2 == 0 ):\n",
    "    print(\"Es par\")"
   ]
  },
  {
   "cell_type": "markdown",
   "metadata": {},
   "source": [
    "## Ejercicio 2\n",
    "\n",
    "Modifica el programa para que indique si es par o impar."
   ]
  },
  {
   "cell_type": "code",
   "execution_count": null,
   "metadata": {},
   "outputs": [],
   "source": [
    "numero = int(input(\"Escribe un número entero\"))\n",
    "if (numero % 2 == 0 ):\n",
    "    print(\"Es par\")\n",
    "else:\n",
    "    print(\"Es impar\")"
   ]
  },
  {
   "cell_type": "markdown",
   "metadata": {},
   "source": [
    "## Ejercicio 3\n",
    "\n",
    "Implementa un programa en Python que pida dos números por teclado y que muestre por pantalla al menor de los dos (suponemos que no pueden ser iguales).\n"
   ]
  },
  {
   "cell_type": "code",
   "execution_count": null,
   "metadata": {},
   "outputs": [],
   "source": [
    "num1 = int(input(\"Dame un número entero\"))\n",
    "num2 = int(input(\"Dame un número entero\"))\n",
    "if (num1 > num2):\n",
    "    print(num2)\n",
    "else:\n",
    "    print(num1)"
   ]
  },
  {
   "cell_type": "markdown",
   "metadata": {},
   "source": [
    "## Ejercicio 4\n",
    "\n",
    "Implementa un programa en Python que pida un número por teclado y que muestre por pantalla un mensaje indicando si es o no negativo. El 0 no es negativo."
   ]
  },
  {
   "cell_type": "code",
   "execution_count": null,
   "metadata": {},
   "outputs": [],
   "source": [
    "num1 = int(input(\"Dame un número entero\"))\n",
    "if (num1 >= 0):\n",
    "    print(\"Es positivo\")\n",
    "else:\n",
    "    print(\"Es negativo\")"
   ]
  },
  {
   "cell_type": "code",
   "execution_count": null,
   "metadata": {},
   "outputs": [],
   "source": [
    "num1 = int(input(\"Dame un número entero\"))\n",
    "if (num1 < 0):\n",
    "    print(\"Es negativo\")\n",
    "else:\n",
    "    print(\"Es positivo\")"
   ]
  },
  {
   "cell_type": "markdown",
   "metadata": {},
   "source": [
    "## Ejercicio 5\n",
    "\n",
    "Implementa un programa en Python que pida tres números por teclado y muestre por pantalla el mayor de los tres.\n",
    "\n",
    "**VERSIÓN AVANZADA**: Busca información sobre la función `max()` e intenta resolverlo con ella (no necesitarás estructuras selectivas). Busca también la función `min()` y muestra el mayor y el menor de ellos."
   ]
  },
  {
   "cell_type": "code",
   "execution_count": null,
   "metadata": {},
   "outputs": [],
   "source": [
    "num1 = int(input(\"Dame un número entero\"))\n",
    "num2 = int(input(\"Dame un número entero\"))\n",
    "num3 = int(input(\"Dame un número entero\"))\n",
    "if num1 > num2 and num1 > num3:\n",
    "    print(\"El número mayor es:\", num1)\n",
    "elif num2 > num1 and num2 > num3:\n",
    "    print(\"El número mayor es:\", num2)\n",
    "else:\n",
    "    print(\"El número mayor es:\", num3)"
   ]
  },
  {
   "cell_type": "code",
   "execution_count": null,
   "metadata": {},
   "outputs": [],
   "source": [
    "num1 = int(input(\"Dame un número entero\"))\n",
    "num2 = int(input(\"Dame un número entero\"))\n",
    "num3 = int(input(\"Dame un número entero\"))\n",
    "num_mayor = max(num1, num2, num3)\n",
    "print(num_mayor)\n",
    "num_mayor = min(num1, num2, num3)\n",
    "print(num_mayor)"
   ]
  },
  {
   "cell_type": "markdown",
   "metadata": {},
   "source": [
    "\n",
    "## Ejercicio 6\n",
    "\n",
    "Modifica el ejercicio 4 para que indique si el número es positivo, negativo o cero."
   ]
  },
  {
   "cell_type": "code",
   "execution_count": null,
   "metadata": {},
   "outputs": [],
   "source": [
    "\n",
    "num1 = int(input(\"Dame un número entero\"))\n",
    "if (num1 > 0):\n",
    "    print(\"Es positivo\")\n",
    "elif (num1 == 0):\n",
    "    print(\"Es cero\")\n",
    "else:\n",
    "    print(\"Es negativo\")\n"
   ]
  },
  {
   "cell_type": "markdown",
   "metadata": {},
   "source": [
    "## Ejercicio 7\n",
    "\n",
    "Implementa un programa en Python que pida un número del 1 al 12 por teclado y que muestre por pantalla el nombre del mes correspondiente.\n"
   ]
  },
  {
   "cell_type": "code",
   "execution_count": 76,
   "metadata": {},
   "outputs": [],
   "source": [
    "num = int(input(\"Dame un número entre 1 y 12\"))\n",
    "if (num == 1):\n",
    "    print(\"Enero\")\n",
    "elif (num == 2):\n",
    "    print(\"Febrero\")\n",
    "elif (num == 3):\n",
    "    print(\"Marzo\")\n",
    "elif (num == 4):\n",
    "    print(\"Abril\")\n",
    "elif (num == 5):\n",
    "    print(\"Mayo\")\n",
    "elif (num == 6):\n",
    "    print(\"Junio\")\n",
    "elif (num == 7):\n",
    "    print(\"Julio\")\n",
    "elif (num == 8):\n",
    "    print(\"Agosto\")\n",
    "elif (num == 9):\n",
    "    print(\"Septiempre\")\n",
    "elif (num == 10):\n",
    "    print(\"Octubre\")\n",
    "elif (num == 11):\n",
    "    print(\"Nobiembre\")\n",
    "elif (num == 12):\n",
    "    print(\"Diciembre\")\n"
   ]
  },
  {
   "cell_type": "markdown",
   "metadata": {},
   "source": [
    "## Ejercicio 8\n",
    "\n",
    "Implementa un programa en Python para mostrar por pantalla la calificación de una nota a partir de la puntuación introducida por teclado:\n",
    "\n",
    "- [0,5) Suspenso\n",
    "- [5,6) Aprobado\n",
    "- [6,7) Bien\n",
    "- [7,9) Notable\n",
    "- [9,10] Sobresaliente\n"
   ]
  },
  {
   "cell_type": "code",
   "execution_count": null,
   "metadata": {},
   "outputs": [],
   "source": [
    "num = int(input(\"Dame un número entre 1 y 10\"))\n",
    "if num < 0 or num > 10:\n",
    "    print(\"Nota incorrecta\")\n",
    "elif (0 <= num < 5 ):\n",
    "    print(\"Suspenso\")\n",
    "elif (5 <= num < 6):\n",
    "    print(\"Aprobado\")\n",
    "elif (6 <= num < 7):\n",
    "    print(\"Bien\")\n",
    "elif (7 <= num < 9):\n",
    "    print(\"Notable\")\n",
    "elif (9 <= num <= 10):\n",
    "    print(\"Sobresaliente\")"
   ]
  },
  {
   "cell_type": "markdown",
   "metadata": {},
   "source": [
    "## Ejercicio 9\n",
    "\n",
    "Tu ordenador es *fan* de la serie *Game of Thrones* y no admite discusión al respeto, además, es muy purista y solo admite el título original.\n",
    "\n",
    "Crea un programa que pregunte al usuario cuál es su serie favorita y responda lo siguiente, según la contestación del usuario:\n",
    "\n",
    "- Si el usuario contesta “Game of Thrones” el ordenador responderá: `“Por supuesto, Game of Thrones es la mejor serie de la historia!”`\n",
    "- Si el usuario responde “Juego de Tronos” el ordenador responderá: `“No se dice \\<entrada\\>, se dice Game of Thrones”`\n",
    "- En caso contrario, responderá: `“No, la mejor es Game of Thrones!”`\n",
    "\n",
    "**VERSIÓN AVANZADA**: Busca información sobre los métodos `lower()` y `upper()` para poder contestar lo mismo independientemente de cómo el usuario combine mayúsculas y minúsculas."
   ]
  },
  {
   "cell_type": "code",
   "execution_count": null,
   "metadata": {},
   "outputs": [],
   "source": [
    "respuesta = input(\"Cúal es tu serie favorita?\")\n",
    "if (respuesta == \"Game of Thrones\"):\n",
    "    print(\"Por supuesto, Game of Thrones es la mejor serie de la historia!\")\n",
    "elif respuesta == \"Juego de Tronos\":\n",
    "    print(\"No se dice \", respuesta, \", se dice Game of Thrones\", sep=\"\")\n",
    "else:\n",
    "    print(\"No, la mejor es Game of Thrones\")\n"
   ]
  },
  {
   "cell_type": "code",
   "execution_count": null,
   "metadata": {},
   "outputs": [],
   "source": [
    "respuesta = input(\"Cúal es tu serie favorita?\")\n",
    "respuesta = respuesta.lower()\n",
    "if (respuesta == \"game of thrones\"):\n",
    "    print(\"Por supuesto, Game of Thrones es la mejor serie de la historia!\")\n",
    "elif respuesta == \"juego de tronos\":\n",
    "    print(\"No se dice \", respuesta, \", se dice Game of Thrones\", sep=\"\")\n",
    "else:\n",
    "    print(\"No, la mejor es Game of Thrones\")\n"
   ]
  },
  {
   "cell_type": "code",
   "execution_count": null,
   "metadata": {},
   "outputs": [],
   "source": [
    "respuesta = input(\"Cúal es tu serie favorita?\")\n",
    "respuesta = respuesta.upper()\n",
    "if (respuesta == \"GAME OF THRONES\"):\n",
    "    print(\"Por supuesto, Game of Thrones es la mejor serie de la historia!\")\n",
    "elif respuesta == \"JUEGO DE TRONOS\":\n",
    "    print(\"No se dice \", respuesta, \", se dice Game of Thrones\", sep=\"\")\n",
    "else:\n",
    "    print(\"No, la mejor es Game of Thrones\")"
   ]
  },
  {
   "cell_type": "markdown",
   "metadata": {},
   "source": [
    "9 con match-case"
   ]
  },
  {
   "cell_type": "code",
   "execution_count": null,
   "metadata": {},
   "outputs": [],
   "source": [
    "respuesta = input(\"Cúal es tu serie favorita?\")\n",
    "respuesta = respuesta.lower()\n",
    "match respuesta:\n",
    "    case (\"game of thrones\"):\n",
    "        print(\"Por supuesto, Game of Thrones es la mejor serie de la historia!\")\n",
    "    case \"juego de tronos\":\n",
    "        print(\"No se dice \", respuesta, \", se dice Game of Thrones\", sep=\"\")\n",
    "    case _:\n",
    "        print(\"No, la mejor es Game of Thrones\")"
   ]
  },
  {
   "cell_type": "markdown",
   "metadata": {},
   "source": [
    "## Ejercicio 10\n",
    "\n",
    "Implementa un programa en Python que pida un año por teclado y que indique si es bisiesto o no.\n",
    "\n",
    "Si el año no es divisible entre cuatro, no es bisiesto.\n",
    "- En caso contrario, si el año no es divisible entre 100, es bisiesto.\n",
    "- En caso contrario, si el año no es divisible entre 400, no es bisiesto.\n",
    "- En caso contrario, es bisesto.\n",
    "Emplea la construcción `if-elif-else`.\n",
    "\n",
    "**VERSIÓN AVANZADA**: ¿Serías capaz de hacerlo solamente con un `if-else` y una única condición?\n",
    "\n",
    "|Ano|\tResultado|\n",
    "|-|-|\n",
    "|2000|\tBisiesto|\n",
    "|2015|\tNo bisiesto|\n",
    "|1999|\tNo bisiesto|\n",
    "|1996|\tBisiesto|\n",
    "|1900|\tNo bisiesto|\n"
   ]
  },
  {
   "cell_type": "code",
   "execution_count": null,
   "metadata": {},
   "outputs": [],
   "source": [
    "año = int(input(\"Dime un año\"))\n",
    "if año % 4 != 0:\n",
    "    print(\"no es bisiesto\")\n",
    "elif año % 100 != 0:\n",
    "    print(\"es bisiesto\")\n",
    "elif año % 400 != 0:\n",
    "    print(\"no es bisiesto\")\n",
    "else:\n",
    "    print(\"es bisiesto\")"
   ]
  },
  {
   "cell_type": "code",
   "execution_count": null,
   "metadata": {},
   "outputs": [],
   "source": [
    "año = int(input(\"Dime un año\"))\n",
    "if (año % 4 != 0) or (año % 400 != 0) and not (año % 100 != 0): \n",
    "    print(\"no es bisiesto\")\n",
    "else:\n",
    "    print(\"es bisiesto\")"
   ]
  },
  {
   "cell_type": "markdown",
   "metadata": {},
   "source": [
    "# Ejercicios de estructuras selectivas y operadores"
   ]
  },
  {
   "cell_type": "markdown",
   "metadata": {},
   "source": [
    "## Ejercicio 11\n",
    "\n",
    "Había una vez una tierra próspera y feliz. La gente pagaba impuestos, por supuesto, la felicidad tenía límites. Estos impuestos se pagaban una vez al año segundo los siguientes criterios:\n",
    "- Si la persona no cobraba más de 85528 thalers, el impuesto era el 18% de las ganancias menos 556,02 thalers.\n",
    "- Si las ganancias eran mayores, el impuesto era 14839,02 thalers sumados a un 32% del exceso de las ganancias por encima de los 85528 thalers.\n",
    "\n",
    "Debe aceptar un valor real y mostrar el cálculo del impuesto sin decimales. El gobierno de este país nunca devuelve dinero a sus habitantes, por lo que se el valor del impuesto es negativo, deberá indicar 0.\n",
    "\n",
    "|Ganancias|\tImpuesto|\n",
    "|-|-|\n",
    "|10000 thalers|\t1244 thalers|\n",
    "|100000 thalers|\t19470 thalers|\n",
    "|1000 thalers|\t0 thalers|\n",
    "|100 thalers|\t0 thalers|\n"
   ]
  },
  {
   "cell_type": "code",
   "execution_count": null,
   "metadata": {},
   "outputs": [],
   "source": [
    "ganancias = int(input(\"Dime las ganancias\"))\n",
    "if ganancias <= 85528:\n",
    "    impuesto = round(ganancias * 0.18 - 556.02, 0)\n",
    "    if (impuesto < 0):\n",
    "        impuesto = 0\n",
    "else:\n",
    "    impuesto = round((ganancias - 85528) * 0.32 + 14839.02, 0)\n",
    "print(\"El impuesto es:\", impuesto, \"y las ganancias son:\", ganancias)"
   ]
  },
  {
   "cell_type": "markdown",
   "metadata": {},
   "source": [
    "## Ejercicio 12\n",
    "\n",
    "Crea una calculadora del mundo mágico de Harry Potter, que convirta galeones, sickels y knuts. Debe ofrecer inicialmente un menú en el que se indiquen las siguientes opciones:\n",
    "- Conversión de galeones a sickels.\n",
    "- Conversión de galeones a knuts.\n",
    "- Conversión de sickles a knuts.\n",
    "- Conversión de knuts a galeones, sickles y knuts (mínimo número de monedas posibles).\n",
    "\n",
    "Recuerda que:\n",
    "- 1 galeón = 17 sickles\n",
    "- 1 sickle = 29 knuts\n",
    "\n",
    "**DATOS DE PRUEBA**\n",
    "|Galeones|Sickles|Knuts|\n",
    "|-|-|-|\n",
    "|10 galeones|170 sickles|4930knuts|\n",
    "|45 galeones|765 sickles|22185knuts|\n",
    "\n",
    "Opción 4\n",
    "\n",
    "|knuts|galeones, sicles, knuts|\n",
    "|-|-|\n",
    "|1000 knuts|2 galeones, 0 sickles y 14 knuts|\n",
    "|36786 knuts|74 galeones,  10 sickles y 14 knuts|\n"
   ]
  },
  {
   "cell_type": "code",
   "execution_count": null,
   "metadata": {},
   "outputs": [],
   "source": [
    "print(\"\"\"Opción 1 -> Conversión de galeones a sickels.\n",
    "Opción 2 -> Conversión de galeones a knuts.\n",
    "Opción 3 -> Conversión de sickles a knuts.\n",
    "Opción 4 -> Conversión de knuts a galeones, sickles y knuts (mínimo número de monedas posibles).\"\"\")\n",
    "opcion = int(input(\"Dime que opción quieres\"))\n",
    "if (opcion == 1):\n",
    "    galeones = int(input(\"Dime cuantos galeones\"))\n",
    "    sickles = galeones * 17\n",
    "    print(sickles, \"sickles.\")\n",
    "elif (opcion == 2):\n",
    "    galeones = int(input(\"Dime cuantos galeones\"))\n",
    "    knut = (galeones * 17) * 29\n",
    "    print(knut, \"knuts.\")\n",
    "elif (opcion == 3):\n",
    "    sickles = int(input(\"Dime cuantos sickles\"))\n",
    "    knut = sickles * 29\n",
    "    print(knut, \"knuts.\")\n",
    "elif (opcion == 4):\n",
    "    knut = int(input(\"Dime cuantos knuts\"))\n",
    "    galeones = ((knut // 29) // 17) \n",
    "    sickles = (knut // 29 % 17)\n",
    "    knuts = (knut % 29)\n",
    "    print(galeones, \"galeones\", sickles, \"sickles\", knuts, \"knuts.\")"
   ]
  },
  {
   "cell_type": "code",
   "execution_count": null,
   "metadata": {},
   "outputs": [],
   "source": [
    "GALEONES_A_SICLES = 29\n",
    "SICKLES_A_KNUTS = 17\n",
    "\n",
    "print(\"\"\"Opción 1 -> Conversión de galeones a sickels.\n",
    "Opción 2 -> Conversión de galeones a knuts.\n",
    "Opción 3 -> Conversión de sickles a knuts.\n",
    "Opción 4 -> Conversión de knuts a galeones, sickles y knuts (mínimo número de monedas posibles).\"\"\")\n",
    "\n",
    "opcion = int(input(\"Dime que opción quieres\"))\n",
    "\n",
    "if (opcion == 1):\n",
    "    galeones = int(input(\"Dime cuantos galeones\"))\n",
    "    sickles = galeones * SICKLES_A_KNUTS\n",
    "    print(sickles, \"sickles.\")\n",
    "elif (opcion == 2):\n",
    "    galeones = int(input(\"Dime cuantos galeones\"))\n",
    "    knut = (galeones * SICKLES_A_KNUTS) * GALEONES_A_SICLES\n",
    "    print(knut, \"knuts.\")\n",
    "elif (opcion == 3):\n",
    "    sickles = int(input(\"Dime cuantos sickles\"))\n",
    "    knut = sickles * GALEONES_A_SICLES\n",
    "    print(knut, \"knuts.\")\n",
    "elif (opcion == 4):\n",
    "    knut = int(input(\"Dime cuantos knuts\"))\n",
    "    galeones = ((knut // GALEONES_A_SICLES) // SICKLES_A_KNUTS) \n",
    "    sickles = (knut // GALEONES_A_SICLES % SICKLES_A_KNUTS)\n",
    "    knuts = (knut % GALEONES_A_SICLES)\n",
    "    print(galeones, \"galeones\", sickles, \"sickles\", knuts, \"knuts.\")"
   ]
  },
  {
   "cell_type": "markdown",
   "metadata": {},
   "source": [
    "## Ejercicio 13\n",
    "\n",
    "Implementa un programa en Python que pida el día, mes y año de una fecha correcta y muestre la fecha del día siguiente. Supón que todos los meses tienen 30 días.\n",
    "\n",
    "**VERSIÓN AVANZADA**: Intenta utilizar la operación módulo."
   ]
  },
  {
   "cell_type": "code",
   "execution_count": 1,
   "metadata": {},
   "outputs": [
    {
     "name": "stdout",
     "output_type": "stream",
     "text": [
      "1 / 1 / 2000\n"
     ]
    }
   ],
   "source": [
    "dia = int(input(\"Dime los dias\"))\n",
    "mes = int(input(\"Dime los meses\"))\n",
    "año = int(input(\"Dime los años\"))\n",
    "dia = dia + 1\n",
    "if(dia >= 30):\n",
    "    dia = 1\n",
    "    mes = mes + 1\n",
    "if(mes >= 12):\n",
    "    mes = 1\n",
    "    año = año + 1\n",
    "print(dia, \"/\", mes, \"/\", año)\n"
   ]
  },
  {
   "cell_type": "code",
   "execution_count": 5,
   "metadata": {},
   "outputs": [
    {
     "name": "stdout",
     "output_type": "stream",
     "text": [
      "3 / 2 / 99999\n"
     ]
    }
   ],
   "source": [
    "dia = int(input(\"Dime los dias\"))\n",
    "mes = int(input(\"Dime los meses\"))\n",
    "año = int(input(\"Dime los años\"))\n",
    "\n",
    "if dia >= 1 and dia <= 30 and mes >= 1 and mes <= 12 and año > 0:\n",
    "\n",
    "    dia = dia + 1\n",
    "    if(dia >= 30):\n",
    "        dia = 1\n",
    "        mes = mes + 1\n",
    "    if(mes >= 12):\n",
    "        mes = 1\n",
    "        año = año + 1\n",
    "    print(dia, \"/\", mes, \"/\", año)\n",
    "else:\n",
    "    print(\"La fecha es incorrecta\")"
   ]
  },
  {
   "cell_type": "markdown",
   "metadata": {},
   "source": [
    "## Ejercicio 14\n",
    "\n",
    "Implementa un programa en Python que pida un día de la semana y devuelva si es o no fin de semana. Si introduce cualquier cadena que no sea un día de la semana deberá mostrar un error."
   ]
  },
  {
   "cell_type": "code",
   "execution_count": null,
   "metadata": {},
   "outputs": [],
   "source": [
    "dia = (input(\"Dime los dias\"))\n",
    "match dia.lower():\n",
    "    case \"lunes\":\n",
    "        print(\"No es fin de semana\")\n",
    "    case \"martes\":\n",
    "        print(\"No es fin de semana\")\n",
    "    case \"miercoles\":\n",
    "        print(\"No es fin de semana\")\n",
    "    case \"jueves\":\n",
    "        print(\"No es fin de semana\")\n",
    "    case \"viernes\":\n",
    "        print(\"No es fin de semana\")\n",
    "    case \"sabado\":\n",
    "        print(\"Es fin de semana\")\n",
    "    case \"domingo\":\n",
    "        print(\"Es fin de semana\")\n",
    "    case _:\n",
    "        print(\"Error\")"
   ]
  },
  {
   "cell_type": "code",
   "execution_count": null,
   "metadata": {},
   "outputs": [],
   "source": [
    "dia = (input(\"Dime los dias\"))\n",
    "match dia.lower():\n",
    "    case \"lunes\"| \"martes\" | \"miercoles\" | \"jueves\" | \"viernes\":\n",
    "        print(\"No es fin de semana\")\n",
    "    case \"sabado\" | \"domingo\" :\n",
    "        print(\"Es fin de semana\")\n",
    "    case _:\n",
    "        print(\"Error\")"
   ]
  },
  {
   "cell_type": "markdown",
   "metadata": {},
   "source": [
    "## Ejercicio 15\n",
    "\n",
    "Repite el ejercicio 8 (conversión de notas) utilizando la sentencia `match-case`. Las notas serán únicamente números enteros."
   ]
  },
  {
   "cell_type": "code",
   "execution_count": 3,
   "metadata": {},
   "outputs": [
    {
     "name": "stdout",
     "output_type": "stream",
     "text": [
      "nota incorrecta\n"
     ]
    }
   ],
   "source": [
    "num = int(input(\"Dame un número entre 1 y 10\"))\n",
    "match num:\n",
    "    case 0 | 1 | 2 | 3 | 4:\n",
    "       print(\"Suspenso\")\n",
    "    case 5:\n",
    "        print(\"Aprobado\")\n",
    "    case 6:\n",
    "        print(\"Bien\")\n",
    "    case 7 | 8:\n",
    "        print(\"Notable\")\n",
    "    case 9 | 10:\n",
    "        print(\"Sobresaliente\")\n",
    "    case _:\n",
    "        print(\"nota incorrecta\")\n"
   ]
  }
 ],
 "metadata": {
  "kernelspec": {
   "display_name": "Python 3",
   "language": "python",
   "name": "python3"
  },
  "language_info": {
   "codemirror_mode": {
    "name": "ipython",
    "version": 3
   },
   "file_extension": ".py",
   "mimetype": "text/x-python",
   "name": "python",
   "nbconvert_exporter": "python",
   "pygments_lexer": "ipython3",
   "version": "3.12.6"
  },
  "orig_nbformat": 4
 },
 "nbformat": 4,
 "nbformat_minor": 2
}
